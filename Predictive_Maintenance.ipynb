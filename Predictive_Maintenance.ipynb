{
  "nbformat": 4,
  "nbformat_minor": 0,
  "metadata": {
    "colab": {
      "provenance": [],
      "gpuType": "T4",
      "include_colab_link": true
    },
    "kernelspec": {
      "name": "python3",
      "display_name": "Python 3"
    },
    "language_info": {
      "name": "python"
    },
    "accelerator": "GPU"
  },
  "cells": [
    {
      "cell_type": "markdown",
      "metadata": {
        "id": "view-in-github",
        "colab_type": "text"
      },
      "source": [
        "<a href=\"https://colab.research.google.com/github/smkandel/DS_project/blob/main/Predictive_Maintenance.ipynb\" target=\"_parent\"><img src=\"https://colab.research.google.com/assets/colab-badge.svg\" alt=\"Open In Colab\"/></a>"
      ]
    },
    {
      "cell_type": "code",
      "execution_count": null,
      "metadata": {
        "id": "3MhooX3Z_olO"
      },
      "outputs": [],
      "source": [
        "import numpy as np\n",
        "import pandas as pd\n",
        "import matplotlib.pyplot as plt"
      ]
    },
    {
      "cell_type": "code",
      "source": [
        "from google.colab import drive\n",
        "drive.mount('/content/drive')"
      ],
      "metadata": {
        "id": "Ulj1Ws0__8GU",
        "colab": {
          "base_uri": "https://localhost:8080/"
        },
        "outputId": "0838080b-12c1-44dc-9d2b-7cd8297d1b05"
      },
      "execution_count": null,
      "outputs": [
        {
          "output_type": "stream",
          "name": "stdout",
          "text": [
            "Mounted at /content/drive\n"
          ]
        }
      ]
    },
    {
      "cell_type": "code",
      "source": [
        "#read final data\n",
        "df = pd.read_csv('/content/drive/MyDrive/Predictive_maintenance_datasets/final_data1.csv')\n",
        "df.shape[0]"
      ],
      "metadata": {
        "id": "fqDq5Pw9CDv6",
        "colab": {
          "base_uri": "https://localhost:8080/"
        },
        "outputId": "476132fc-bdfc-40a9-a8b1-eb28ab1c0589"
      },
      "execution_count": null,
      "outputs": [
        {
          "output_type": "execute_result",
          "data": {
            "text/plain": [
              "876545"
            ]
          },
          "metadata": {},
          "execution_count": 3
        }
      ]
    },
    {
      "cell_type": "code",
      "source": [
        "#add machine data\n",
        "df_machine = pd.read_csv('/content/drive/MyDrive/Predictive_maintenance_datasets/PdM_machines.csv')\n",
        "\n",
        "#merge and override\n",
        "df = df.merge(df_machine, on=['machineID'], how='left')\n",
        "df"
      ],
      "metadata": {
        "colab": {
          "base_uri": "https://localhost:8080/",
          "height": 617
        },
        "id": "aNk55O7gFeGF",
        "outputId": "5eeb9626-0ade-448b-f914-d321af11a203"
      },
      "execution_count": null,
      "outputs": [
        {
          "output_type": "execute_result",
          "data": {
            "text/plain": [
              "       failure        datetime  machineID        volt      rotate    pressure  \\\n",
              "0           no   1/1/2015 6:00          1  176.217853  418.504078  113.077935   \n",
              "1           no   1/1/2015 7:00          1  162.879223  402.747490   95.460525   \n",
              "2           no   1/1/2015 8:00          1  170.989902  527.349825   75.237905   \n",
              "3           no   1/1/2015 9:00          1  162.462833  346.149335  109.248561   \n",
              "4           no  1/1/2015 10:00          1  157.610021  435.376873  111.886648   \n",
              "...        ...             ...        ...         ...         ...         ...   \n",
              "876540      no   1/1/2016 2:00        100  179.438162  395.222827  102.290715   \n",
              "876541      no   1/1/2016 3:00        100  189.617555  446.207972   98.180607   \n",
              "876542      no   1/1/2016 4:00        100  192.483414  447.816524   94.132837   \n",
              "876543      no   1/1/2016 5:00        100  165.475310  413.771670  104.081073   \n",
              "876544      no   1/1/2016 6:00        100  171.336037  496.096870   79.095538   \n",
              "\n",
              "        vibration  volt_lag_1  vibration_lag_1  volt_lag_24  ...  ham_comp1  \\\n",
              "0       45.087686         NaN              NaN          NaN  ...          1   \n",
              "1       43.413973  176.217853        45.087686          NaN  ...          2   \n",
              "2       34.178847  162.879223        43.413973          NaN  ...          3   \n",
              "3       41.122144  170.989902        34.178847          NaN  ...          4   \n",
              "4       25.990511  162.462833        41.122144          NaN  ...          5   \n",
              "...           ...         ...              ...          ...  ...        ...   \n",
              "876540  50.771941  162.742669        44.382754   148.126516  ...       1989   \n",
              "876541  35.123072  179.438162        50.771941   136.363542  ...       1990   \n",
              "876542  48.314561  189.617555        35.123072   169.925104  ...       1991   \n",
              "876543  44.835259  192.483414        48.314561   163.234778  ...       1992   \n",
              "876544  37.845245  165.475310        44.835259   173.774481  ...       1993   \n",
              "\n",
              "        ham_comp2  ham_comp3  ham_comp4  pm_comp1  pm_comp2  pm_comp3  \\\n",
              "0               1          1          1         0         0         0   \n",
              "1               2          2          2         0         0         0   \n",
              "2               3          3          3         0         0         0   \n",
              "3               4          4          4         0         0         0   \n",
              "4               5          5          5         0         0         0   \n",
              "...           ...        ...        ...       ...       ...       ...   \n",
              "876540        188       1988       1268         0         0         0   \n",
              "876541        189       1989       1269         0         0         0   \n",
              "876542        190       1990       1270         0         0         0   \n",
              "876543        191       1991       1271         0         0         0   \n",
              "876544        192       1992       1272         0         0         0   \n",
              "\n",
              "        pm_comp4   model  age  \n",
              "0              0  model3   18  \n",
              "1              0  model3   18  \n",
              "2              0  model3   18  \n",
              "3              0  model3   18  \n",
              "4              0  model3   18  \n",
              "...          ...     ...  ...  \n",
              "876540         0  model4    5  \n",
              "876541         0  model4    5  \n",
              "876542         0  model4    5  \n",
              "876543         0  model4    5  \n",
              "876544         0  model4    5  \n",
              "\n",
              "[876545 rows x 44 columns]"
            ],
            "text/html": [
              "\n",
              "  <div id=\"df-c0dbf22e-a94b-4a55-994d-dd4c2d567d38\" class=\"colab-df-container\">\n",
              "    <div>\n",
              "<style scoped>\n",
              "    .dataframe tbody tr th:only-of-type {\n",
              "        vertical-align: middle;\n",
              "    }\n",
              "\n",
              "    .dataframe tbody tr th {\n",
              "        vertical-align: top;\n",
              "    }\n",
              "\n",
              "    .dataframe thead th {\n",
              "        text-align: right;\n",
              "    }\n",
              "</style>\n",
              "<table border=\"1\" class=\"dataframe\">\n",
              "  <thead>\n",
              "    <tr style=\"text-align: right;\">\n",
              "      <th></th>\n",
              "      <th>failure</th>\n",
              "      <th>datetime</th>\n",
              "      <th>machineID</th>\n",
              "      <th>volt</th>\n",
              "      <th>rotate</th>\n",
              "      <th>pressure</th>\n",
              "      <th>vibration</th>\n",
              "      <th>volt_lag_1</th>\n",
              "      <th>vibration_lag_1</th>\n",
              "      <th>volt_lag_24</th>\n",
              "      <th>...</th>\n",
              "      <th>ham_comp1</th>\n",
              "      <th>ham_comp2</th>\n",
              "      <th>ham_comp3</th>\n",
              "      <th>ham_comp4</th>\n",
              "      <th>pm_comp1</th>\n",
              "      <th>pm_comp2</th>\n",
              "      <th>pm_comp3</th>\n",
              "      <th>pm_comp4</th>\n",
              "      <th>model</th>\n",
              "      <th>age</th>\n",
              "    </tr>\n",
              "  </thead>\n",
              "  <tbody>\n",
              "    <tr>\n",
              "      <th>0</th>\n",
              "      <td>no</td>\n",
              "      <td>1/1/2015 6:00</td>\n",
              "      <td>1</td>\n",
              "      <td>176.217853</td>\n",
              "      <td>418.504078</td>\n",
              "      <td>113.077935</td>\n",
              "      <td>45.087686</td>\n",
              "      <td>NaN</td>\n",
              "      <td>NaN</td>\n",
              "      <td>NaN</td>\n",
              "      <td>...</td>\n",
              "      <td>1</td>\n",
              "      <td>1</td>\n",
              "      <td>1</td>\n",
              "      <td>1</td>\n",
              "      <td>0</td>\n",
              "      <td>0</td>\n",
              "      <td>0</td>\n",
              "      <td>0</td>\n",
              "      <td>model3</td>\n",
              "      <td>18</td>\n",
              "    </tr>\n",
              "    <tr>\n",
              "      <th>1</th>\n",
              "      <td>no</td>\n",
              "      <td>1/1/2015 7:00</td>\n",
              "      <td>1</td>\n",
              "      <td>162.879223</td>\n",
              "      <td>402.747490</td>\n",
              "      <td>95.460525</td>\n",
              "      <td>43.413973</td>\n",
              "      <td>176.217853</td>\n",
              "      <td>45.087686</td>\n",
              "      <td>NaN</td>\n",
              "      <td>...</td>\n",
              "      <td>2</td>\n",
              "      <td>2</td>\n",
              "      <td>2</td>\n",
              "      <td>2</td>\n",
              "      <td>0</td>\n",
              "      <td>0</td>\n",
              "      <td>0</td>\n",
              "      <td>0</td>\n",
              "      <td>model3</td>\n",
              "      <td>18</td>\n",
              "    </tr>\n",
              "    <tr>\n",
              "      <th>2</th>\n",
              "      <td>no</td>\n",
              "      <td>1/1/2015 8:00</td>\n",
              "      <td>1</td>\n",
              "      <td>170.989902</td>\n",
              "      <td>527.349825</td>\n",
              "      <td>75.237905</td>\n",
              "      <td>34.178847</td>\n",
              "      <td>162.879223</td>\n",
              "      <td>43.413973</td>\n",
              "      <td>NaN</td>\n",
              "      <td>...</td>\n",
              "      <td>3</td>\n",
              "      <td>3</td>\n",
              "      <td>3</td>\n",
              "      <td>3</td>\n",
              "      <td>0</td>\n",
              "      <td>0</td>\n",
              "      <td>0</td>\n",
              "      <td>0</td>\n",
              "      <td>model3</td>\n",
              "      <td>18</td>\n",
              "    </tr>\n",
              "    <tr>\n",
              "      <th>3</th>\n",
              "      <td>no</td>\n",
              "      <td>1/1/2015 9:00</td>\n",
              "      <td>1</td>\n",
              "      <td>162.462833</td>\n",
              "      <td>346.149335</td>\n",
              "      <td>109.248561</td>\n",
              "      <td>41.122144</td>\n",
              "      <td>170.989902</td>\n",
              "      <td>34.178847</td>\n",
              "      <td>NaN</td>\n",
              "      <td>...</td>\n",
              "      <td>4</td>\n",
              "      <td>4</td>\n",
              "      <td>4</td>\n",
              "      <td>4</td>\n",
              "      <td>0</td>\n",
              "      <td>0</td>\n",
              "      <td>0</td>\n",
              "      <td>0</td>\n",
              "      <td>model3</td>\n",
              "      <td>18</td>\n",
              "    </tr>\n",
              "    <tr>\n",
              "      <th>4</th>\n",
              "      <td>no</td>\n",
              "      <td>1/1/2015 10:00</td>\n",
              "      <td>1</td>\n",
              "      <td>157.610021</td>\n",
              "      <td>435.376873</td>\n",
              "      <td>111.886648</td>\n",
              "      <td>25.990511</td>\n",
              "      <td>162.462833</td>\n",
              "      <td>41.122144</td>\n",
              "      <td>NaN</td>\n",
              "      <td>...</td>\n",
              "      <td>5</td>\n",
              "      <td>5</td>\n",
              "      <td>5</td>\n",
              "      <td>5</td>\n",
              "      <td>0</td>\n",
              "      <td>0</td>\n",
              "      <td>0</td>\n",
              "      <td>0</td>\n",
              "      <td>model3</td>\n",
              "      <td>18</td>\n",
              "    </tr>\n",
              "    <tr>\n",
              "      <th>...</th>\n",
              "      <td>...</td>\n",
              "      <td>...</td>\n",
              "      <td>...</td>\n",
              "      <td>...</td>\n",
              "      <td>...</td>\n",
              "      <td>...</td>\n",
              "      <td>...</td>\n",
              "      <td>...</td>\n",
              "      <td>...</td>\n",
              "      <td>...</td>\n",
              "      <td>...</td>\n",
              "      <td>...</td>\n",
              "      <td>...</td>\n",
              "      <td>...</td>\n",
              "      <td>...</td>\n",
              "      <td>...</td>\n",
              "      <td>...</td>\n",
              "      <td>...</td>\n",
              "      <td>...</td>\n",
              "      <td>...</td>\n",
              "      <td>...</td>\n",
              "    </tr>\n",
              "    <tr>\n",
              "      <th>876540</th>\n",
              "      <td>no</td>\n",
              "      <td>1/1/2016 2:00</td>\n",
              "      <td>100</td>\n",
              "      <td>179.438162</td>\n",
              "      <td>395.222827</td>\n",
              "      <td>102.290715</td>\n",
              "      <td>50.771941</td>\n",
              "      <td>162.742669</td>\n",
              "      <td>44.382754</td>\n",
              "      <td>148.126516</td>\n",
              "      <td>...</td>\n",
              "      <td>1989</td>\n",
              "      <td>188</td>\n",
              "      <td>1988</td>\n",
              "      <td>1268</td>\n",
              "      <td>0</td>\n",
              "      <td>0</td>\n",
              "      <td>0</td>\n",
              "      <td>0</td>\n",
              "      <td>model4</td>\n",
              "      <td>5</td>\n",
              "    </tr>\n",
              "    <tr>\n",
              "      <th>876541</th>\n",
              "      <td>no</td>\n",
              "      <td>1/1/2016 3:00</td>\n",
              "      <td>100</td>\n",
              "      <td>189.617555</td>\n",
              "      <td>446.207972</td>\n",
              "      <td>98.180607</td>\n",
              "      <td>35.123072</td>\n",
              "      <td>179.438162</td>\n",
              "      <td>50.771941</td>\n",
              "      <td>136.363542</td>\n",
              "      <td>...</td>\n",
              "      <td>1990</td>\n",
              "      <td>189</td>\n",
              "      <td>1989</td>\n",
              "      <td>1269</td>\n",
              "      <td>0</td>\n",
              "      <td>0</td>\n",
              "      <td>0</td>\n",
              "      <td>0</td>\n",
              "      <td>model4</td>\n",
              "      <td>5</td>\n",
              "    </tr>\n",
              "    <tr>\n",
              "      <th>876542</th>\n",
              "      <td>no</td>\n",
              "      <td>1/1/2016 4:00</td>\n",
              "      <td>100</td>\n",
              "      <td>192.483414</td>\n",
              "      <td>447.816524</td>\n",
              "      <td>94.132837</td>\n",
              "      <td>48.314561</td>\n",
              "      <td>189.617555</td>\n",
              "      <td>35.123072</td>\n",
              "      <td>169.925104</td>\n",
              "      <td>...</td>\n",
              "      <td>1991</td>\n",
              "      <td>190</td>\n",
              "      <td>1990</td>\n",
              "      <td>1270</td>\n",
              "      <td>0</td>\n",
              "      <td>0</td>\n",
              "      <td>0</td>\n",
              "      <td>0</td>\n",
              "      <td>model4</td>\n",
              "      <td>5</td>\n",
              "    </tr>\n",
              "    <tr>\n",
              "      <th>876543</th>\n",
              "      <td>no</td>\n",
              "      <td>1/1/2016 5:00</td>\n",
              "      <td>100</td>\n",
              "      <td>165.475310</td>\n",
              "      <td>413.771670</td>\n",
              "      <td>104.081073</td>\n",
              "      <td>44.835259</td>\n",
              "      <td>192.483414</td>\n",
              "      <td>48.314561</td>\n",
              "      <td>163.234778</td>\n",
              "      <td>...</td>\n",
              "      <td>1992</td>\n",
              "      <td>191</td>\n",
              "      <td>1991</td>\n",
              "      <td>1271</td>\n",
              "      <td>0</td>\n",
              "      <td>0</td>\n",
              "      <td>0</td>\n",
              "      <td>0</td>\n",
              "      <td>model4</td>\n",
              "      <td>5</td>\n",
              "    </tr>\n",
              "    <tr>\n",
              "      <th>876544</th>\n",
              "      <td>no</td>\n",
              "      <td>1/1/2016 6:00</td>\n",
              "      <td>100</td>\n",
              "      <td>171.336037</td>\n",
              "      <td>496.096870</td>\n",
              "      <td>79.095538</td>\n",
              "      <td>37.845245</td>\n",
              "      <td>165.475310</td>\n",
              "      <td>44.835259</td>\n",
              "      <td>173.774481</td>\n",
              "      <td>...</td>\n",
              "      <td>1993</td>\n",
              "      <td>192</td>\n",
              "      <td>1992</td>\n",
              "      <td>1272</td>\n",
              "      <td>0</td>\n",
              "      <td>0</td>\n",
              "      <td>0</td>\n",
              "      <td>0</td>\n",
              "      <td>model4</td>\n",
              "      <td>5</td>\n",
              "    </tr>\n",
              "  </tbody>\n",
              "</table>\n",
              "<p>876545 rows × 44 columns</p>\n",
              "</div>\n",
              "    <div class=\"colab-df-buttons\">\n",
              "\n",
              "  <div class=\"colab-df-container\">\n",
              "    <button class=\"colab-df-convert\" onclick=\"convertToInteractive('df-c0dbf22e-a94b-4a55-994d-dd4c2d567d38')\"\n",
              "            title=\"Convert this dataframe to an interactive table.\"\n",
              "            style=\"display:none;\">\n",
              "\n",
              "  <svg xmlns=\"http://www.w3.org/2000/svg\" height=\"24px\" viewBox=\"0 -960 960 960\">\n",
              "    <path d=\"M120-120v-720h720v720H120Zm60-500h600v-160H180v160Zm220 220h160v-160H400v160Zm0 220h160v-160H400v160ZM180-400h160v-160H180v160Zm440 0h160v-160H620v160ZM180-180h160v-160H180v160Zm440 0h160v-160H620v160Z\"/>\n",
              "  </svg>\n",
              "    </button>\n",
              "\n",
              "  <style>\n",
              "    .colab-df-container {\n",
              "      display:flex;\n",
              "      gap: 12px;\n",
              "    }\n",
              "\n",
              "    .colab-df-convert {\n",
              "      background-color: #E8F0FE;\n",
              "      border: none;\n",
              "      border-radius: 50%;\n",
              "      cursor: pointer;\n",
              "      display: none;\n",
              "      fill: #1967D2;\n",
              "      height: 32px;\n",
              "      padding: 0 0 0 0;\n",
              "      width: 32px;\n",
              "    }\n",
              "\n",
              "    .colab-df-convert:hover {\n",
              "      background-color: #E2EBFA;\n",
              "      box-shadow: 0px 1px 2px rgba(60, 64, 67, 0.3), 0px 1px 3px 1px rgba(60, 64, 67, 0.15);\n",
              "      fill: #174EA6;\n",
              "    }\n",
              "\n",
              "    .colab-df-buttons div {\n",
              "      margin-bottom: 4px;\n",
              "    }\n",
              "\n",
              "    [theme=dark] .colab-df-convert {\n",
              "      background-color: #3B4455;\n",
              "      fill: #D2E3FC;\n",
              "    }\n",
              "\n",
              "    [theme=dark] .colab-df-convert:hover {\n",
              "      background-color: #434B5C;\n",
              "      box-shadow: 0px 1px 3px 1px rgba(0, 0, 0, 0.15);\n",
              "      filter: drop-shadow(0px 1px 2px rgba(0, 0, 0, 0.3));\n",
              "      fill: #FFFFFF;\n",
              "    }\n",
              "  </style>\n",
              "\n",
              "    <script>\n",
              "      const buttonEl =\n",
              "        document.querySelector('#df-c0dbf22e-a94b-4a55-994d-dd4c2d567d38 button.colab-df-convert');\n",
              "      buttonEl.style.display =\n",
              "        google.colab.kernel.accessAllowed ? 'block' : 'none';\n",
              "\n",
              "      async function convertToInteractive(key) {\n",
              "        const element = document.querySelector('#df-c0dbf22e-a94b-4a55-994d-dd4c2d567d38');\n",
              "        const dataTable =\n",
              "          await google.colab.kernel.invokeFunction('convertToInteractive',\n",
              "                                                    [key], {});\n",
              "        if (!dataTable) return;\n",
              "\n",
              "        const docLinkHtml = 'Like what you see? Visit the ' +\n",
              "          '<a target=\"_blank\" href=https://colab.research.google.com/notebooks/data_table.ipynb>data table notebook</a>'\n",
              "          + ' to learn more about interactive tables.';\n",
              "        element.innerHTML = '';\n",
              "        dataTable['output_type'] = 'display_data';\n",
              "        await google.colab.output.renderOutput(dataTable, element);\n",
              "        const docLink = document.createElement('div');\n",
              "        docLink.innerHTML = docLinkHtml;\n",
              "        element.appendChild(docLink);\n",
              "      }\n",
              "    </script>\n",
              "  </div>\n",
              "\n",
              "\n",
              "<div id=\"df-dacbab91-ace6-429e-8ac3-ed59e3e1e902\">\n",
              "  <button class=\"colab-df-quickchart\" onclick=\"quickchart('df-dacbab91-ace6-429e-8ac3-ed59e3e1e902')\"\n",
              "            title=\"Suggest charts\"\n",
              "            style=\"display:none;\">\n",
              "\n",
              "<svg xmlns=\"http://www.w3.org/2000/svg\" height=\"24px\"viewBox=\"0 0 24 24\"\n",
              "     width=\"24px\">\n",
              "    <g>\n",
              "        <path d=\"M19 3H5c-1.1 0-2 .9-2 2v14c0 1.1.9 2 2 2h14c1.1 0 2-.9 2-2V5c0-1.1-.9-2-2-2zM9 17H7v-7h2v7zm4 0h-2V7h2v10zm4 0h-2v-4h2v4z\"/>\n",
              "    </g>\n",
              "</svg>\n",
              "  </button>\n",
              "\n",
              "<style>\n",
              "  .colab-df-quickchart {\n",
              "      --bg-color: #E8F0FE;\n",
              "      --fill-color: #1967D2;\n",
              "      --hover-bg-color: #E2EBFA;\n",
              "      --hover-fill-color: #174EA6;\n",
              "      --disabled-fill-color: #AAA;\n",
              "      --disabled-bg-color: #DDD;\n",
              "  }\n",
              "\n",
              "  [theme=dark] .colab-df-quickchart {\n",
              "      --bg-color: #3B4455;\n",
              "      --fill-color: #D2E3FC;\n",
              "      --hover-bg-color: #434B5C;\n",
              "      --hover-fill-color: #FFFFFF;\n",
              "      --disabled-bg-color: #3B4455;\n",
              "      --disabled-fill-color: #666;\n",
              "  }\n",
              "\n",
              "  .colab-df-quickchart {\n",
              "    background-color: var(--bg-color);\n",
              "    border: none;\n",
              "    border-radius: 50%;\n",
              "    cursor: pointer;\n",
              "    display: none;\n",
              "    fill: var(--fill-color);\n",
              "    height: 32px;\n",
              "    padding: 0;\n",
              "    width: 32px;\n",
              "  }\n",
              "\n",
              "  .colab-df-quickchart:hover {\n",
              "    background-color: var(--hover-bg-color);\n",
              "    box-shadow: 0 1px 2px rgba(60, 64, 67, 0.3), 0 1px 3px 1px rgba(60, 64, 67, 0.15);\n",
              "    fill: var(--button-hover-fill-color);\n",
              "  }\n",
              "\n",
              "  .colab-df-quickchart-complete:disabled,\n",
              "  .colab-df-quickchart-complete:disabled:hover {\n",
              "    background-color: var(--disabled-bg-color);\n",
              "    fill: var(--disabled-fill-color);\n",
              "    box-shadow: none;\n",
              "  }\n",
              "\n",
              "  .colab-df-spinner {\n",
              "    border: 2px solid var(--fill-color);\n",
              "    border-color: transparent;\n",
              "    border-bottom-color: var(--fill-color);\n",
              "    animation:\n",
              "      spin 1s steps(1) infinite;\n",
              "  }\n",
              "\n",
              "  @keyframes spin {\n",
              "    0% {\n",
              "      border-color: transparent;\n",
              "      border-bottom-color: var(--fill-color);\n",
              "      border-left-color: var(--fill-color);\n",
              "    }\n",
              "    20% {\n",
              "      border-color: transparent;\n",
              "      border-left-color: var(--fill-color);\n",
              "      border-top-color: var(--fill-color);\n",
              "    }\n",
              "    30% {\n",
              "      border-color: transparent;\n",
              "      border-left-color: var(--fill-color);\n",
              "      border-top-color: var(--fill-color);\n",
              "      border-right-color: var(--fill-color);\n",
              "    }\n",
              "    40% {\n",
              "      border-color: transparent;\n",
              "      border-right-color: var(--fill-color);\n",
              "      border-top-color: var(--fill-color);\n",
              "    }\n",
              "    60% {\n",
              "      border-color: transparent;\n",
              "      border-right-color: var(--fill-color);\n",
              "    }\n",
              "    80% {\n",
              "      border-color: transparent;\n",
              "      border-right-color: var(--fill-color);\n",
              "      border-bottom-color: var(--fill-color);\n",
              "    }\n",
              "    90% {\n",
              "      border-color: transparent;\n",
              "      border-bottom-color: var(--fill-color);\n",
              "    }\n",
              "  }\n",
              "</style>\n",
              "\n",
              "  <script>\n",
              "    async function quickchart(key) {\n",
              "      const quickchartButtonEl =\n",
              "        document.querySelector('#' + key + ' button');\n",
              "      quickchartButtonEl.disabled = true;  // To prevent multiple clicks.\n",
              "      quickchartButtonEl.classList.add('colab-df-spinner');\n",
              "      try {\n",
              "        const charts = await google.colab.kernel.invokeFunction(\n",
              "            'suggestCharts', [key], {});\n",
              "      } catch (error) {\n",
              "        console.error('Error during call to suggestCharts:', error);\n",
              "      }\n",
              "      quickchartButtonEl.classList.remove('colab-df-spinner');\n",
              "      quickchartButtonEl.classList.add('colab-df-quickchart-complete');\n",
              "    }\n",
              "    (() => {\n",
              "      let quickchartButtonEl =\n",
              "        document.querySelector('#df-dacbab91-ace6-429e-8ac3-ed59e3e1e902 button');\n",
              "      quickchartButtonEl.style.display =\n",
              "        google.colab.kernel.accessAllowed ? 'block' : 'none';\n",
              "    })();\n",
              "  </script>\n",
              "</div>\n",
              "\n",
              "  <div id=\"id_7465fe24-970d-4567-b1e1-60aa6e66a874\">\n",
              "    <style>\n",
              "      .colab-df-generate {\n",
              "        background-color: #E8F0FE;\n",
              "        border: none;\n",
              "        border-radius: 50%;\n",
              "        cursor: pointer;\n",
              "        display: none;\n",
              "        fill: #1967D2;\n",
              "        height: 32px;\n",
              "        padding: 0 0 0 0;\n",
              "        width: 32px;\n",
              "      }\n",
              "\n",
              "      .colab-df-generate:hover {\n",
              "        background-color: #E2EBFA;\n",
              "        box-shadow: 0px 1px 2px rgba(60, 64, 67, 0.3), 0px 1px 3px 1px rgba(60, 64, 67, 0.15);\n",
              "        fill: #174EA6;\n",
              "      }\n",
              "\n",
              "      [theme=dark] .colab-df-generate {\n",
              "        background-color: #3B4455;\n",
              "        fill: #D2E3FC;\n",
              "      }\n",
              "\n",
              "      [theme=dark] .colab-df-generate:hover {\n",
              "        background-color: #434B5C;\n",
              "        box-shadow: 0px 1px 3px 1px rgba(0, 0, 0, 0.15);\n",
              "        filter: drop-shadow(0px 1px 2px rgba(0, 0, 0, 0.3));\n",
              "        fill: #FFFFFF;\n",
              "      }\n",
              "    </style>\n",
              "    <button class=\"colab-df-generate\" onclick=\"generateWithVariable('df')\"\n",
              "            title=\"Generate code using this dataframe.\"\n",
              "            style=\"display:none;\">\n",
              "\n",
              "  <svg xmlns=\"http://www.w3.org/2000/svg\" height=\"24px\"viewBox=\"0 0 24 24\"\n",
              "       width=\"24px\">\n",
              "    <path d=\"M7,19H8.4L18.45,9,17,7.55,7,17.6ZM5,21V16.75L18.45,3.32a2,2,0,0,1,2.83,0l1.4,1.43a1.91,1.91,0,0,1,.58,1.4,1.91,1.91,0,0,1-.58,1.4L9.25,21ZM18.45,9,17,7.55Zm-12,3A5.31,5.31,0,0,0,4.9,8.1,5.31,5.31,0,0,0,1,6.5,5.31,5.31,0,0,0,4.9,4.9,5.31,5.31,0,0,0,6.5,1,5.31,5.31,0,0,0,8.1,4.9,5.31,5.31,0,0,0,12,6.5,5.46,5.46,0,0,0,6.5,12Z\"/>\n",
              "  </svg>\n",
              "    </button>\n",
              "    <script>\n",
              "      (() => {\n",
              "      const buttonEl =\n",
              "        document.querySelector('#id_7465fe24-970d-4567-b1e1-60aa6e66a874 button.colab-df-generate');\n",
              "      buttonEl.style.display =\n",
              "        google.colab.kernel.accessAllowed ? 'block' : 'none';\n",
              "\n",
              "      buttonEl.onclick = () => {\n",
              "        google.colab.notebook.generateWithVariable('df');\n",
              "      }\n",
              "      })();\n",
              "    </script>\n",
              "  </div>\n",
              "\n",
              "    </div>\n",
              "  </div>\n"
            ],
            "application/vnd.google.colaboratory.intrinsic+json": {
              "type": "dataframe",
              "variable_name": "df"
            }
          },
          "metadata": {},
          "execution_count": 4
        }
      ]
    },
    {
      "cell_type": "code",
      "source": [
        "df.info()\n",
        "#categorical: failure and model, rest of all are numeric"
      ],
      "metadata": {
        "colab": {
          "base_uri": "https://localhost:8080/"
        },
        "id": "2l-uuT7SGqfn",
        "outputId": "95dfead5-29d1-4063-e1ae-6bb809b0abed"
      },
      "execution_count": null,
      "outputs": [
        {
          "output_type": "stream",
          "name": "stdout",
          "text": [
            "<class 'pandas.core.frame.DataFrame'>\n",
            "RangeIndex: 876545 entries, 0 to 876544\n",
            "Data columns (total 44 columns):\n",
            " #   Column                     Non-Null Count   Dtype  \n",
            "---  ------                     --------------   -----  \n",
            " 0   failure                    876545 non-null  object \n",
            " 1   datetime                   876545 non-null  object \n",
            " 2   machineID                  876545 non-null  int64  \n",
            " 3   volt                       876545 non-null  float64\n",
            " 4   rotate                     876545 non-null  float64\n",
            " 5   pressure                   876545 non-null  float64\n",
            " 6   vibration                  876545 non-null  float64\n",
            " 7   volt_lag_1                 876544 non-null  float64\n",
            " 8   vibration_lag_1            876544 non-null  float64\n",
            " 9   volt_lag_24                876521 non-null  float64\n",
            " 10  vibration_lag_24           876521 non-null  float64\n",
            " 11  volt_rolling_3h            876543 non-null  float64\n",
            " 12  volt_rolling_min_3h        876543 non-null  float64\n",
            " 13  volt_rolling_max_3h        876543 non-null  float64\n",
            " 14  volt_rolling_24h           876522 non-null  float64\n",
            " 15  volt_rolling_min_24h       876522 non-null  float64\n",
            " 16  volt_rolling_max_24h       876522 non-null  float64\n",
            " 17  rotate_rolling_min_3h      876543 non-null  float64\n",
            " 18  rotate_rolling_max_3h      876543 non-null  float64\n",
            " 19  rotate_rolling_24h         876522 non-null  float64\n",
            " 20  rotate_rolling_min_24h     876522 non-null  float64\n",
            " 21  rotate_rolling_max_24h     876522 non-null  float64\n",
            " 22  pressure_rolling_3h        876543 non-null  float64\n",
            " 23  pressure_rolling_min_3h    876543 non-null  float64\n",
            " 24  pressure_rolling_max_3h    876543 non-null  float64\n",
            " 25  pressure_rolling_24h       876522 non-null  float64\n",
            " 26  pressure_rolling_min_24h   876522 non-null  float64\n",
            " 27  pressure_rolling_max_24h   876522 non-null  float64\n",
            " 28  vibration_rolling_3h       876543 non-null  float64\n",
            " 29  vibration_rolling_min_3h   876543 non-null  float64\n",
            " 30  vibration_rolling_max_3h   876543 non-null  float64\n",
            " 31  vibration_rolling_24h      876522 non-null  float64\n",
            " 32  vibration_rolling_min_24h  876522 non-null  float64\n",
            " 33  vibration_rolling_max_24h  876522 non-null  float64\n",
            " 34  ham_comp1                  876545 non-null  int64  \n",
            " 35  ham_comp2                  876545 non-null  int64  \n",
            " 36  ham_comp3                  876545 non-null  int64  \n",
            " 37  ham_comp4                  876545 non-null  int64  \n",
            " 38  pm_comp1                   876545 non-null  int64  \n",
            " 39  pm_comp2                   876545 non-null  int64  \n",
            " 40  pm_comp3                   876545 non-null  int64  \n",
            " 41  pm_comp4                   876545 non-null  int64  \n",
            " 42  model                      876545 non-null  object \n",
            " 43  age                        876545 non-null  int64  \n",
            "dtypes: float64(31), int64(10), object(3)\n",
            "memory usage: 294.3+ MB\n"
          ]
        }
      ]
    },
    {
      "cell_type": "code",
      "source": [
        "# Drop the first 24 rows\n",
        "df = df.drop(df.index[:24])\n",
        "\n",
        "# Reset the index to have consecutive integer values after removing the rows\n",
        "df.reset_index(drop=True, inplace=True)"
      ],
      "metadata": {
        "id": "aPDmB942H7pu"
      },
      "execution_count": null,
      "outputs": []
    },
    {
      "cell_type": "code",
      "source": [
        "#no missing value confirmation\n",
        "print(df.isna().sum())"
      ],
      "metadata": {
        "colab": {
          "base_uri": "https://localhost:8080/"
        },
        "id": "wI0hVaYAKwm4",
        "outputId": "1f4c9e11-599c-4019-f9ff-8ec34232f103"
      },
      "execution_count": null,
      "outputs": [
        {
          "output_type": "stream",
          "name": "stdout",
          "text": [
            "failure                      0\n",
            "datetime                     0\n",
            "machineID                    0\n",
            "volt                         0\n",
            "rotate                       0\n",
            "pressure                     0\n",
            "vibration                    0\n",
            "volt_lag_1                   0\n",
            "vibration_lag_1              0\n",
            "volt_lag_24                  0\n",
            "vibration_lag_24             0\n",
            "volt_rolling_3h              0\n",
            "volt_rolling_min_3h          0\n",
            "volt_rolling_max_3h          0\n",
            "volt_rolling_24h             0\n",
            "volt_rolling_min_24h         0\n",
            "volt_rolling_max_24h         0\n",
            "rotate_rolling_min_3h        0\n",
            "rotate_rolling_max_3h        0\n",
            "rotate_rolling_24h           0\n",
            "rotate_rolling_min_24h       0\n",
            "rotate_rolling_max_24h       0\n",
            "pressure_rolling_3h          0\n",
            "pressure_rolling_min_3h      0\n",
            "pressure_rolling_max_3h      0\n",
            "pressure_rolling_24h         0\n",
            "pressure_rolling_min_24h     0\n",
            "pressure_rolling_max_24h     0\n",
            "vibration_rolling_3h         0\n",
            "vibration_rolling_min_3h     0\n",
            "vibration_rolling_max_3h     0\n",
            "vibration_rolling_24h        0\n",
            "vibration_rolling_min_24h    0\n",
            "vibration_rolling_max_24h    0\n",
            "ham_comp1                    0\n",
            "ham_comp2                    0\n",
            "ham_comp3                    0\n",
            "ham_comp4                    0\n",
            "pm_comp1                     0\n",
            "pm_comp2                     0\n",
            "pm_comp3                     0\n",
            "pm_comp4                     0\n",
            "model                        0\n",
            "age                          0\n",
            "dtype: int64\n"
          ]
        }
      ]
    },
    {
      "cell_type": "code",
      "source": [
        "#Drop unnecessary columns\n",
        "columns_to_drop = ['datetime', 'machineID', 'pm_comp1', 'pm_comp2', 'pm_comp3', 'pm_comp4']\n",
        "df1 = df.drop(columns=columns_to_drop)"
      ],
      "metadata": {
        "id": "T9nv_LvoN4JZ"
      },
      "execution_count": null,
      "outputs": []
    },
    {
      "cell_type": "code",
      "source": [
        "#getting index location of categoricals\n",
        "print(df1.columns.get_loc('model'))"
      ],
      "metadata": {
        "colab": {
          "base_uri": "https://localhost:8080/"
        },
        "id": "j7q7pTEnPAMx",
        "outputId": "0f1d55df-c3a8-4b09-b9e3-588397984759"
      },
      "execution_count": null,
      "outputs": [
        {
          "output_type": "stream",
          "name": "stdout",
          "text": [
            "36\n"
          ]
        }
      ]
    },
    {
      "cell_type": "code",
      "source": [
        "#encoding categorical features\n",
        "from sklearn.preprocessing import LabelEncoder\n",
        "encoder = LabelEncoder()\n",
        "\n",
        "# Specify the column indices to encode\n",
        "column_indices = [36]\n",
        "\n",
        "#use label encoder and override\n",
        "df1.iloc[:, column_indices]= df1.iloc[:, column_indices].apply(encoder.fit_transform) #direct override, no need to concatenate\n"
      ],
      "metadata": {
        "id": "R2-voszAMo4V"
      },
      "execution_count": null,
      "outputs": []
    },
    {
      "cell_type": "code",
      "source": [
        "#encoding categorical labels\n",
        "df1['y_var'] = encoder.fit_transform(df['failure'])"
      ],
      "metadata": {
        "id": "g-iX7ZEATKKz"
      },
      "execution_count": null,
      "outputs": []
    },
    {
      "cell_type": "code",
      "source": [
        "df1.y_var.value_counts() #imbalanced"
      ],
      "metadata": {
        "id": "KLrrOeAMVqoV",
        "colab": {
          "base_uri": "https://localhost:8080/"
        },
        "outputId": "fa8046ac-7489-4984-80d2-64ad8d200f73"
      },
      "execution_count": null,
      "outputs": [
        {
          "output_type": "execute_result",
          "data": {
            "text/plain": [
              "y_var\n",
              "4    875760\n",
              "1       259\n",
              "0       192\n",
              "3       179\n",
              "2       131\n",
              "Name: count, dtype: int64"
            ]
          },
          "metadata": {},
          "execution_count": 12
        }
      ]
    },
    {
      "cell_type": "code",
      "source": [
        "#10% random sampling\n",
        "\n",
        "# Criteria 1: Retain all observations with labels 0, 1, 2, and 3\n",
        "df2 = df1[df1['y_var'].isin([0, 1, 2, 3])]\n",
        "\n",
        "# Criteria 2: Sample only 10% of observations with label 4\n",
        "label_4_df = df1[df1['y_var'] == 4]\n",
        "sampled_label_4_df = label_4_df.sample(frac=0.1, random_state=42)\n",
        "\n",
        "# Concatenate both DataFrames to get the final df2\n",
        "df2 = pd.concat([df2, sampled_label_4_df])"
      ],
      "metadata": {
        "id": "DAy1SCiwF5cG"
      },
      "execution_count": null,
      "outputs": []
    },
    {
      "cell_type": "code",
      "source": [
        "#dependent & independent\n",
        "y = df2.iloc[:, -1].values #values makes it array\n",
        "X = df2.iloc[:, 9:38].values"
      ],
      "metadata": {
        "id": "OX2vZylQPary"
      },
      "execution_count": null,
      "outputs": []
    },
    {
      "cell_type": "markdown",
      "source": [
        "**Solving the problem of imbalanced dataset**"
      ],
      "metadata": {
        "id": "SkBRC0fKi8k8"
      }
    },
    {
      "cell_type": "code",
      "source": [
        "#Balancing using SMOTE\n",
        "from imblearn.over_sampling import SMOTE\n",
        "\n",
        "#Apply SMOTE to balance the classes on the whole dataset\n",
        "smote = SMOTE(random_state=42)\n",
        "X_resampled_smote, y_resampled_smote = smote.fit_resample(X, y)"
      ],
      "metadata": {
        "id": "BAi3M3aL_9FP"
      },
      "execution_count": null,
      "outputs": []
    },
    {
      "cell_type": "code",
      "source": [
        "#Results after SMOTE\n",
        "# Original count of labels in 'y'\n",
        "original_label_counts = np.bincount(y)\n",
        "print(\"Original Label Counts:\")\n",
        "print(original_label_counts)\n",
        "\n",
        "# Resampled count of labels using SMOTE\n",
        "resampled_smote_label_counts = np.bincount(y_resampled_smote)\n",
        "print(\"\\nResampled Label Counts using SMOTE:\")\n",
        "print(resampled_smote_label_counts)"
      ],
      "metadata": {
        "colab": {
          "base_uri": "https://localhost:8080/"
        },
        "id": "xeczDXILgasL",
        "outputId": "89240965-ced0-48d6-8cd0-65762c4a86dc"
      },
      "execution_count": null,
      "outputs": [
        {
          "output_type": "stream",
          "name": "stdout",
          "text": [
            "Original Label Counts:\n",
            "[  192   259   131   179 87576]\n",
            "\n",
            "Resampled Label Counts using SMOTE:\n",
            "[87576 87576 87576 87576 87576]\n"
          ]
        }
      ]
    },
    {
      "cell_type": "code",
      "source": [
        "#Split the resampled dataset into training and test sets\n",
        "from sklearn.model_selection import train_test_split\n",
        "X_train, X_test, y_train, y_test = train_test_split(X_resampled_smote, y_resampled_smote, test_size=0.2, random_state=42)"
      ],
      "metadata": {
        "id": "BDJ0LBf2hzpd"
      },
      "execution_count": null,
      "outputs": []
    },
    {
      "cell_type": "code",
      "source": [
        "#Normalization\n",
        "from sklearn.preprocessing import StandardScaler\n",
        "scaler = StandardScaler()\n",
        "\n",
        "# Fit the scaler on the training data\n",
        "scaler.fit(X_train)\n",
        "\n",
        "# Apply the scaler to transform the training and test data\n",
        "X_train_scaled = scaler.transform(X_train)\n",
        "X_test_scaled = scaler.transform(X_test)\n"
      ],
      "metadata": {
        "id": "rvzQIpNeY-Fl"
      },
      "execution_count": null,
      "outputs": []
    },
    {
      "cell_type": "code",
      "source": [
        "#Random Forest\n",
        "from sklearn.ensemble import RandomForestClassifier\n",
        "rf_classifier = RandomForestClassifier()\n",
        "rf_classifier.fit(X_train_scaled, y_train)\n",
        "\n",
        "# Make predictions on the test data\n",
        "y_pred = rf_classifier.predict(X_test_scaled)"
      ],
      "metadata": {
        "id": "hyiqUVVpaJst"
      },
      "execution_count": null,
      "outputs": []
    },
    {
      "cell_type": "code",
      "source": [
        "from sklearn.metrics import accuracy_score, precision_score, recall_score, f1_score\n",
        "\n",
        "# Calculate accuracy\n",
        "accuracy1 = accuracy_score(y_test, y_pred)\n",
        "print(\"Accuracy:\", accuracy1)\n",
        "\n",
        "# Calculate precision, recall, and F1-score for each class\n",
        "precision1 = precision_score(y_test, y_pred, average=None)\n",
        "recall1 = recall_score(y_test, y_pred, average=None)\n",
        "f1_score1 = f1_score(y_test, y_pred, average=None)\n",
        "\n",
        "print(\"Precision of RF:\", precision1)\n",
        "print(\"Recall of RF:\", recall1)\n",
        "print(\"F1-score of RF:\", f1_score1)"
      ],
      "metadata": {
        "colab": {
          "base_uri": "https://localhost:8080/"
        },
        "id": "7c8OCkxiKSKL",
        "outputId": "eea916f0-6054-4e50-9ffd-16bae531300f"
      },
      "execution_count": null,
      "outputs": [
        {
          "output_type": "stream",
          "name": "stdout",
          "text": [
            "Accuracy: 0.9955124691696355\n",
            "Precision of RF: [0.99592586 0.99227097 0.99664716 0.99365978 0.9991325 ]\n",
            "Recall of RF: [0.99890647 0.99680292 0.99903161 0.99687642 0.98596051]\n",
            "F1-score of RF: [0.99741394 0.99453178 0.99783796 0.9952655  0.9925028 ]\n"
          ]
        }
      ]
    },
    {
      "cell_type": "code",
      "source": [
        "#confusion matrix\n",
        "from sklearn.metrics import confusion_matrix\n",
        "import seaborn as sns\n",
        "\n",
        "# Generate the confusion matrix\n",
        "cm = confusion_matrix(y_test, y_pred)\n",
        "\n",
        "# Plot the confusion matrix using Seaborn heatmap\n",
        "plt.figure(figsize=(8, 6))\n",
        "sns.heatmap(cm, annot=True, fmt=\"d\", cmap=\"Blues\", cbar=False)\n",
        "plt.xlabel(\"Predicted Labels\")\n",
        "plt.ylabel(\"True Labels\")\n",
        "plt.title(\"Confusion Matrix\")\n",
        "plt.show()"
      ],
      "metadata": {
        "colab": {
          "base_uri": "https://localhost:8080/",
          "height": 564
        },
        "id": "W_jPLQTZMM9u",
        "outputId": "25670e8d-e11a-44a9-ac60-4aa7c36af495"
      },
      "execution_count": null,
      "outputs": [
        {
          "output_type": "display_data",
          "data": {
            "text/plain": [
              "<Figure size 800x600 with 1 Axes>"
            ],
            "image/png": "[encoded data removed]"
          },
          "metadata": {}
        }
      ]
    },
    {
      "cell_type": "code",
      "source": [
        "import xgboost as xgb\n",
        "\n",
        "# Create an XGBoost classifier\n",
        "xgb_classifier = xgb.XGBClassifier()\n",
        "xgb_classifier.fit(X_train_scaled, y_train)\n",
        "y_pred = xgb_classifier.predict(X_test_scaled)"
      ],
      "metadata": {
        "id": "S_G3lqcaj6Z-"
      },
      "execution_count": null,
      "outputs": []
    },
    {
      "cell_type": "code",
      "source": [
        "# Calculate accuracy\n",
        "accuracy2 = accuracy_score(y_test, y_pred)\n",
        "print(\"Accuracy:\", accuracy2)\n",
        "\n",
        "# Calculate precision, recall, and F1-score for each class\n",
        "precision2 = precision_score(y_test, y_pred, average=None)\n",
        "recall2 = recall_score(y_test, y_pred, average=None)\n",
        "f1_score2 = f1_score(y_test, y_pred, average=None)\n",
        "\n",
        "print(\"Precision:\", precision2)\n",
        "print(\"Recall:\", recall2)\n",
        "print(\"F1-score:\", f1_score2)"
      ],
      "metadata": {
        "colab": {
          "base_uri": "https://localhost:8080/"
        },
        "id": "H0ewzBYEKzAv",
        "outputId": "4a5c4b70-0a93-45f7-dd3b-8566500dd5a7"
      },
      "execution_count": null,
      "outputs": [
        {
          "output_type": "stream",
          "name": "stdout",
          "text": [
            "Accuracy: 0.9963574495295515\n",
            "Precision: [0.99678586 0.99583262 0.99608222 0.9934404  0.99971165]\n",
            "Recall: [0.99953957 0.99588947 0.99931643 0.99772831 0.9893277 ]\n",
            "F1-score: [0.99816081 0.99586105 0.9976967  0.99557973 0.99449257]\n"
          ]
        }
      ]
    },
    {
      "cell_type": "code",
      "source": [
        "import numpy as np\n",
        "from keras.models import Sequential\n",
        "from keras.layers import Dense\n",
        "from keras.utils import to_categorical\n",
        "\n",
        "# Convert target labels to one-hot encoded format\n",
        "y_train_encoded = to_categorical(y_train, num_classes=5)\n",
        "y_test_encoded = to_categorical(y_test, num_classes=5)  # Assuming you have y_test\n",
        "\n",
        "# Create a sequential neural network model\n",
        "model = Sequential()\n",
        "\n",
        "# Add input layer and hidden layers\n",
        "model.add(Dense(32, input_dim=X_train_scaled.shape[1], activation='relu'))\n",
        "model.add(Dense(16, activation='relu'))\n",
        "\n",
        "# Add output layer with appropriate activation function (softmax) for multi-class classification\n",
        "model.add(Dense(5, activation='softmax'))\n",
        "\n",
        "# Compile the model\n",
        "model.compile(loss='categorical_crossentropy', optimizer='adam', metrics=['accuracy'])\n",
        "\n",
        "# Train the model on the training data\n",
        "history = model.fit(X_train_scaled, y_train_encoded, epochs=16, batch_size=32, validation_split=0.2)\n",
        "\n",
        "# Make predictions on the test data using the trained neural network\n",
        "y_pred_probabilities = model.predict(X_test_scaled)\n",
        "y_pred = np.argmax(y_pred_probabilities, axis=1)"
      ],
      "metadata": {
        "colab": {
          "base_uri": "https://localhost:8080/"
        },
        "id": "R8pNjxd5F2sV",
        "outputId": "3e81b468-5933-4c98-f3e8-db8603bb2718"
      },
      "execution_count": null,
      "outputs": [
        {
          "output_type": "stream",
          "name": "stdout",
          "text": [
            "Epoch 1/16\n",
            "8758/8758 [==============================] - 37s 4ms/step - loss: 0.1283 - accuracy: 0.9644 - val_loss: 0.0913 - val_accuracy: 0.9763\n",
            "Epoch 2/16\n",
            "8758/8758 [==============================] - 35s 4ms/step - loss: 0.0837 - accuracy: 0.9783 - val_loss: 0.0785 - val_accuracy: 0.9788\n",
            "Epoch 3/16\n",
            "8758/8758 [==============================] - 33s 4ms/step - loss: 0.0752 - accuracy: 0.9802 - val_loss: 0.0737 - val_accuracy: 0.9799\n",
            "Epoch 4/16\n",
            "8758/8758 [==============================] - 34s 4ms/step - loss: 0.0700 - accuracy: 0.9814 - val_loss: 0.0717 - val_accuracy: 0.9800\n",
            "Epoch 5/16\n",
            "8758/8758 [==============================] - 33s 4ms/step - loss: 0.0662 - accuracy: 0.9821 - val_loss: 0.0710 - val_accuracy: 0.9802\n",
            "Epoch 6/16\n",
            "8758/8758 [==============================] - 35s 4ms/step - loss: 0.0631 - accuracy: 0.9828 - val_loss: 0.0667 - val_accuracy: 0.9817\n",
            "Epoch 7/16\n",
            "8758/8758 [==============================] - 36s 4ms/step - loss: 0.0608 - accuracy: 0.9832 - val_loss: 0.0627 - val_accuracy: 0.9832\n",
            "Epoch 8/16\n",
            "8758/8758 [==============================] - 36s 4ms/step - loss: 0.0588 - accuracy: 0.9838 - val_loss: 0.0609 - val_accuracy: 0.9833\n",
            "Epoch 9/16\n",
            "8758/8758 [==============================] - 34s 4ms/step - loss: 0.0578 - accuracy: 0.9837 - val_loss: 0.0591 - val_accuracy: 0.9841\n",
            "Epoch 10/16\n",
            "8758/8758 [==============================] - 34s 4ms/step - loss: 0.0557 - accuracy: 0.9846 - val_loss: 0.0623 - val_accuracy: 0.9835\n",
            "Epoch 11/16\n",
            "8758/8758 [==============================] - 35s 4ms/step - loss: 0.0541 - accuracy: 0.9849 - val_loss: 0.0566 - val_accuracy: 0.9844\n",
            "Epoch 12/16\n",
            "8758/8758 [==============================] - 36s 4ms/step - loss: 0.0529 - accuracy: 0.9854 - val_loss: 0.0603 - val_accuracy: 0.9842\n",
            "Epoch 13/16\n",
            "8758/8758 [==============================] - 37s 4ms/step - loss: 0.0522 - accuracy: 0.9854 - val_loss: 0.0554 - val_accuracy: 0.9857\n",
            "Epoch 14/16\n",
            "8758/8758 [==============================] - 35s 4ms/step - loss: 0.0510 - accuracy: 0.9856 - val_loss: 0.0581 - val_accuracy: 0.9841\n",
            "Epoch 15/16\n",
            "8758/8758 [==============================] - 33s 4ms/step - loss: 0.0502 - accuracy: 0.9859 - val_loss: 0.0558 - val_accuracy: 0.9859\n",
            "Epoch 16/16\n",
            "8758/8758 [==============================] - 35s 4ms/step - loss: 0.0493 - accuracy: 0.9862 - val_loss: 0.0562 - val_accuracy: 0.9848\n",
            "2737/2737 [==============================] - 4s 2ms/step\n"
          ]
        }
      ]
    },
    {
      "cell_type": "code",
      "source": [
        "y_pred_probabilities = model.predict(X_test_scaled)\n",
        "y_pred = np.argmax(y_pred_probabilities, axis=1)"
      ],
      "metadata": {
        "colab": {
          "base_uri": "https://localhost:8080/"
        },
        "id": "TOFTbFDMXm2_",
        "outputId": "1e555155-d26e-4f22-a056-9af2c8f21199"
      },
      "execution_count": null,
      "outputs": [
        {
          "output_type": "stream",
          "name": "stdout",
          "text": [
            "2737/2737 [==============================] - 5s 2ms/step\n"
          ]
        }
      ]
    },
    {
      "cell_type": "code",
      "source": [
        "#ANN performance metrics\n",
        "# Calculate accuracy\n",
        "accuracy3 = accuracy_score(y_test, y_pred)\n",
        "print(\"Accuracy:\", accuracy3)\n",
        "\n",
        "# Calculate precision, recall, and F1-score for each class\n",
        "precision3 = precision_score(y_test, y_pred, average=None)\n",
        "recall3 = recall_score(y_test, y_pred, average=None)\n",
        "f1_score3 = f1_score(y_test, y_pred, average=None)\n",
        "\n",
        "print(\"Precision:\", precision3)\n",
        "print(\"Recall:\", recall3)\n",
        "print(\"F1-score:\", f1_score3)"
      ],
      "metadata": {
        "colab": {
          "base_uri": "https://localhost:8080/"
        },
        "id": "RUBgDUczNwcQ",
        "outputId": "49a22d77-db02-4a53-f1a7-bb2bce1cfca3"
      },
      "execution_count": null,
      "outputs": [
        {
          "output_type": "stream",
          "name": "stdout",
          "text": [
            "Accuracy: 0.9852356810084955\n",
            "Precision: [0.98525124 0.97638771 0.98853055 0.97758448 0.99928537]\n",
            "Recall: [0.99194245 0.98915277 0.99174024 0.99568378 0.95765324]\n",
            "F1-score: [0.98858552 0.98272879 0.99013279 0.98655112 0.97802646]\n"
          ]
        }
      ]
    }
  ]
}