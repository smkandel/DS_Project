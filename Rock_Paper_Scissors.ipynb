{
  "nbformat": 4,
  "nbformat_minor": 0,
  "metadata": {
    "colab": {
      "provenance": [],
      "include_colab_link": true
    },
    "kernelspec": {
      "name": "python3",
      "display_name": "Python 3"
    },
    "language_info": {
      "name": "python"
    }
  },
  "cells": [
    {
      "cell_type": "markdown",
      "metadata": {
        "id": "view-in-github",
        "colab_type": "text"
      },
      "source": [
        "<a href=\"https://colab.research.google.com/github/smkandel/DS_project/blob/main/Rock_Paper_Scissors.ipynb\" target=\"_parent\"><img src=\"https://colab.research.google.com/assets/colab-badge.svg\" alt=\"Open In Colab\"/></a>"
      ]
    },
    {
      "cell_type": "markdown",
      "source": [
        "**Rock Paper Scissors**"
      ],
      "metadata": {
        "id": "l24EnUKNyfLj"
      }
    },
    {
      "cell_type": "markdown",
      "source": [
        "This repository contains a simple yet engaging implementation of the classic Rock, Paper, Scissors game using Python. The game features a user playing against the computer, where the computer makes random choices between Rock, Paper, and Scissors. The game continues until the user wins. It includes input validation to ensure correct user inputs, making it a fun and interactive experience."
      ],
      "metadata": {
        "id": "oWNvDPgHydfR"
      }
    },
    {
      "cell_type": "code",
      "execution_count": 1,
      "metadata": {
        "colab": {
          "base_uri": "https://localhost:8080/"
        },
        "id": "lDLDXAl75U6C",
        "outputId": "fe555ffd-95b8-4229-b8e6-02fa13b7d916"
      },
      "outputs": [
        {
          "output_type": "stream",
          "name": "stdout",
          "text": [
            "4\n"
          ]
        }
      ],
      "source": [
        "import random\n",
        "test_list = [1, 4, 5, 2, 7]\n",
        "random_num = random.choice(test_list)\n",
        "print(random_num)"
      ]
    },
    {
      "cell_type": "code",
      "source": [
        "# between computer and user\n",
        "# rock, paper , sci....\n",
        "# if input varies ask user again for correct input\n",
        "# game goes on until user wins\n",
        "# scior < rock\n",
        "# rock < paper\n",
        "# paper < scior"
      ],
      "metadata": {
        "id": "ac9HE6Jb5r6q"
      },
      "execution_count": null,
      "outputs": []
    },
    {
      "cell_type": "code",
      "source": [
        "import random\n",
        "computer_inputs=[\"Rock\",\"Paper\",\"Scissors\"]\n",
        "user_win=False\n",
        "\n",
        "while user_win==False:\n",
        "  computer = random.choice(computer_inputs)\n",
        "  player=input(\"Please enter the choice from 'Rock','Paper','Scissors' \\n\")\n",
        "  if player.lower() == computer.lower():\n",
        "        print(\"Tie!\")\n",
        "  elif player.lower() == \"Rock\".lower():\n",
        "      if computer.lower() == \"Paper\".lower():\n",
        "          print(\"You lose!\", computer, \"covers\", player)\n",
        "      else:\n",
        "          print(\"You win!\", player, \"smashes\", computer)\n",
        "          user_win=True\n",
        "  elif player.lower() == \"Paper\".lower():\n",
        "      if computer.lower() == \"Scissors\".lower():\n",
        "          print(\"You lose!\", computer, \"cut\", player)\n",
        "      else:\n",
        "          print(\"You win!\", player, \"covers\", computer)\n",
        "          user_win=True\n",
        "  elif player.lower() == \"Scissors\".lower():\n",
        "      if computer.lower() == \"Rock\".lower():\n",
        "          print(\"You lose!\", computer, \"smashes\", player)\n",
        "      else:\n",
        "          print(\"You win!\", player, \"cut\", computer)\n",
        "          user_win=True\n",
        "  else:\n",
        "      print(\"That's not a valid play. Check your spelling!\")"
      ],
      "metadata": {
        "id": "nKXuhIFY-ThR",
        "colab": {
          "base_uri": "https://localhost:8080/"
        },
        "outputId": "0fbd7e13-ec97-417d-d2e2-3b19f9d7e544"
      },
      "execution_count": null,
      "outputs": [
        {
          "output_type": "stream",
          "name": "stdout",
          "text": [
            "Please enter the choice from 'Rock','Paper','Scissors' \n",
            "rock\n",
            "Tie!\n",
            "Please enter the choice from 'Rock','Paper','Scissors' \n",
            "rock\n",
            "Tie!\n",
            "Please enter the choice from 'Rock','Paper','Scissors' \n",
            "paper\n",
            "Tie!\n",
            "Please enter the choice from 'Rock','Paper','Scissors' \n",
            "Rock\n",
            "You lose! Paper covers Rock\n"
          ]
        }
      ]
    },
    {
      "cell_type": "code",
      "source": [],
      "metadata": {
        "id": "LykcKZ7c7DWy"
      },
      "execution_count": null,
      "outputs": []
    }
  ]
}